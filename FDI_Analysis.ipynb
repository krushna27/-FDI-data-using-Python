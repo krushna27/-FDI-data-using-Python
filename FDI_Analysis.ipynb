{
  "cells": [
    {
      "cell_type": "markdown",
      "metadata": {
        "colab_type": "text",
        "id": "view-in-github"
      },
      "source": [
        "<a href=\"https://colab.research.google.com/github/Nrup2002/Foreign-Direct-Investment-Analysis/blob/main/FDI_Analysis.ipynb\" target=\"_parent\"><img src=\"https://colab.research.google.com/assets/colab-badge.svg\" alt=\"Open In Colab\"/></a>"
      ]
    },
    {
      "cell_type": "markdown",
      "id": "6f2e57ec",
      "metadata": {
        "id": "6f2e57ec"
      },
      "source": [
        "# Foreign Direct Investment Analysis"
      ]
    },
    {
      "cell_type": "code",
      "execution_count": 1,
      "id": "e1ec85ef",
      "metadata": {
        "id": "e1ec85ef"
      },
      "outputs": [],
      "source": [
        "# Importing required Libraries\n",
        "import pandas as pd\n",
        "import numpy as np\n",
        "import matplotlib.pyplot as plt\n",
        "import seaborn as sns"
      ]
    },
    {
      "cell_type": "code",
      "execution_count": 2,
      "id": "a3845489",
      "metadata": {
        "colab": {
          "base_uri": "https://localhost:8080/",
          "height": 242
        },
        "id": "a3845489",
        "outputId": "8fd75064-51f4-4c74-ae4e-304cd0214262"
      },
      "outputs": [
        {
          "data": {
            "text/html": [
              "<div>\n",
              "<style scoped>\n",
              "    .dataframe tbody tr th:only-of-type {\n",
              "        vertical-align: middle;\n",
              "    }\n",
              "\n",
              "    .dataframe tbody tr th {\n",
              "        vertical-align: top;\n",
              "    }\n",
              "\n",
              "    .dataframe thead th {\n",
              "        text-align: right;\n",
              "    }\n",
              "</style>\n",
              "<table border=\"1\" class=\"dataframe\">\n",
              "  <thead>\n",
              "    <tr style=\"text-align: right;\">\n",
              "      <th></th>\n",
              "      <th>Sector</th>\n",
              "      <th>2000-01</th>\n",
              "      <th>2001-02</th>\n",
              "      <th>2002-03</th>\n",
              "      <th>2003-04</th>\n",
              "      <th>2004-05</th>\n",
              "      <th>2005-06</th>\n",
              "      <th>2006-07</th>\n",
              "      <th>2007-08</th>\n",
              "      <th>2008-09</th>\n",
              "      <th>2009-10</th>\n",
              "      <th>2010-11</th>\n",
              "      <th>2011-12</th>\n",
              "      <th>2012-13</th>\n",
              "      <th>2013-14</th>\n",
              "      <th>2014-15</th>\n",
              "      <th>2015-16</th>\n",
              "      <th>2016-17</th>\n",
              "    </tr>\n",
              "  </thead>\n",
              "  <tbody>\n",
              "    <tr>\n",
              "      <th>0</th>\n",
              "      <td>METALLURGICAL INDUSTRIES</td>\n",
              "      <td>22.69</td>\n",
              "      <td>14.14</td>\n",
              "      <td>36.61</td>\n",
              "      <td>8.11</td>\n",
              "      <td>200.38</td>\n",
              "      <td>149.13</td>\n",
              "      <td>169.94</td>\n",
              "      <td>1175.75</td>\n",
              "      <td>959.94</td>\n",
              "      <td>419.88</td>\n",
              "      <td>1098.14</td>\n",
              "      <td>1786.14</td>\n",
              "      <td>1466.23</td>\n",
              "      <td>567.63</td>\n",
              "      <td>359.34</td>\n",
              "      <td>456.31</td>\n",
              "      <td>1440.18</td>\n",
              "    </tr>\n",
              "    <tr>\n",
              "      <th>1</th>\n",
              "      <td>MINING</td>\n",
              "      <td>1.32</td>\n",
              "      <td>6.52</td>\n",
              "      <td>10.06</td>\n",
              "      <td>23.48</td>\n",
              "      <td>9.92</td>\n",
              "      <td>7.40</td>\n",
              "      <td>6.62</td>\n",
              "      <td>444.36</td>\n",
              "      <td>34.16</td>\n",
              "      <td>174.40</td>\n",
              "      <td>79.51</td>\n",
              "      <td>142.65</td>\n",
              "      <td>57.89</td>\n",
              "      <td>12.73</td>\n",
              "      <td>684.39</td>\n",
              "      <td>520.67</td>\n",
              "      <td>55.75</td>\n",
              "    </tr>\n",
              "    <tr>\n",
              "      <th>2</th>\n",
              "      <td>POWER</td>\n",
              "      <td>89.42</td>\n",
              "      <td>757.44</td>\n",
              "      <td>59.11</td>\n",
              "      <td>27.09</td>\n",
              "      <td>43.37</td>\n",
              "      <td>72.69</td>\n",
              "      <td>157.15</td>\n",
              "      <td>988.68</td>\n",
              "      <td>907.66</td>\n",
              "      <td>1271.79</td>\n",
              "      <td>1271.77</td>\n",
              "      <td>1652.38</td>\n",
              "      <td>535.68</td>\n",
              "      <td>1066.08</td>\n",
              "      <td>707.04</td>\n",
              "      <td>868.80</td>\n",
              "      <td>1112.98</td>\n",
              "    </tr>\n",
              "  </tbody>\n",
              "</table>\n",
              "</div>"
            ],
            "text/plain": [
              "                     Sector  2000-01  2001-02  2002-03  2003-04  2004-05  \\\n",
              "0  METALLURGICAL INDUSTRIES    22.69    14.14    36.61     8.11   200.38   \n",
              "1                    MINING     1.32     6.52    10.06    23.48     9.92   \n",
              "2                     POWER    89.42   757.44    59.11    27.09    43.37   \n",
              "\n",
              "   2005-06  2006-07  2007-08  2008-09  2009-10  2010-11  2011-12  2012-13  \\\n",
              "0   149.13   169.94  1175.75   959.94   419.88  1098.14  1786.14  1466.23   \n",
              "1     7.40     6.62   444.36    34.16   174.40    79.51   142.65    57.89   \n",
              "2    72.69   157.15   988.68   907.66  1271.79  1271.77  1652.38   535.68   \n",
              "\n",
              "   2013-14  2014-15  2015-16  2016-17  \n",
              "0   567.63   359.34   456.31  1440.18  \n",
              "1    12.73   684.39   520.67    55.75  \n",
              "2  1066.08   707.04   868.80  1112.98  "
            ]
          },
          "execution_count": 2,
          "metadata": {},
          "output_type": "execute_result"
        }
      ],
      "source": [
        "#Extracting CSV Data\n",
        "FDI = pd.read_csv('FDI data.csv')\n",
        "FDI.head(3)"
      ]
    },
    {
      "cell_type": "code",
      "execution_count": 3,
      "id": "5a6d1b53",
      "metadata": {},
      "outputs": [
        {
          "name": "stdout",
          "output_type": "stream",
          "text": [
            "Requirement already satisfied: pandas-profiling in c:\\users\\msi1\\anaconda3\\lib\\site-packages (3.6.6)\n",
            "Requirement already satisfied: ydata-profiling in c:\\users\\msi1\\anaconda3\\lib\\site-packages (from pandas-profiling) (4.5.1)\n",
            "Requirement already satisfied: multimethod<2,>=1.4 in c:\\users\\msi1\\anaconda3\\lib\\site-packages (from ydata-profiling->pandas-profiling) (1.10)\n",
            "Requirement already satisfied: jinja2<3.2,>=2.11.1 in c:\\users\\msi1\\anaconda3\\lib\\site-packages (from ydata-profiling->pandas-profiling) (3.1.2)\n",
            "Requirement already satisfied: scipy<1.12,>=1.4.1 in c:\\users\\msi1\\anaconda3\\lib\\site-packages (from ydata-profiling->pandas-profiling) (1.10.0)\n",
            "Requirement already satisfied: tqdm<5,>=4.48.2 in c:\\users\\msi1\\anaconda3\\lib\\site-packages (from ydata-profiling->pandas-profiling) (4.64.1)\n",
            "Requirement already satisfied: statsmodels<1,>=0.13.2 in c:\\users\\msi1\\anaconda3\\lib\\site-packages (from ydata-profiling->pandas-profiling) (0.13.5)\n",
            "Requirement already satisfied: dacite>=1.8 in c:\\users\\msi1\\anaconda3\\lib\\site-packages (from ydata-profiling->pandas-profiling) (1.8.1)\n",
            "Requirement already satisfied: PyYAML<6.1,>=5.0.0 in c:\\users\\msi1\\anaconda3\\lib\\site-packages (from ydata-profiling->pandas-profiling) (6.0)\n",
            "Requirement already satisfied: wordcloud>=1.9.1 in c:\\users\\msi1\\anaconda3\\lib\\site-packages (from ydata-profiling->pandas-profiling) (1.9.2)\n",
            "Requirement already satisfied: numpy<1.24,>=1.16.0 in c:\\users\\msi1\\anaconda3\\lib\\site-packages (from ydata-profiling->pandas-profiling) (1.23.5)\n",
            "Requirement already satisfied: matplotlib<4,>=3.2 in c:\\users\\msi1\\anaconda3\\lib\\site-packages (from ydata-profiling->pandas-profiling) (3.7.0)\n",
            "Requirement already satisfied: typeguard<3,>=2.13.2 in c:\\users\\msi1\\anaconda3\\lib\\site-packages (from ydata-profiling->pandas-profiling) (2.13.3)\n",
            "Requirement already satisfied: htmlmin==0.1.12 in c:\\users\\msi1\\anaconda3\\lib\\site-packages (from ydata-profiling->pandas-profiling) (0.1.12)\n",
            "Requirement already satisfied: pydantic<2,>=1.8.1 in c:\\users\\msi1\\anaconda3\\lib\\site-packages (from ydata-profiling->pandas-profiling) (1.10.13)\n",
            "Requirement already satisfied: phik<0.13,>=0.11.1 in c:\\users\\msi1\\anaconda3\\lib\\site-packages (from ydata-profiling->pandas-profiling) (0.12.3)\n",
            "Requirement already satisfied: imagehash==4.3.1 in c:\\users\\msi1\\anaconda3\\lib\\site-packages (from ydata-profiling->pandas-profiling) (4.3.1)\n",
            "Requirement already satisfied: pandas!=1.4.0,<2.1,>1.1 in c:\\users\\msi1\\anaconda3\\lib\\site-packages (from ydata-profiling->pandas-profiling) (1.5.3)\n",
            "Requirement already satisfied: seaborn<0.13,>=0.10.1 in c:\\users\\msi1\\anaconda3\\lib\\site-packages (from ydata-profiling->pandas-profiling) (0.12.2)\n",
            "Requirement already satisfied: visions[type_image_path]==0.7.5 in c:\\users\\msi1\\anaconda3\\lib\\site-packages (from ydata-profiling->pandas-profiling) (0.7.5)\n",
            "Requirement already satisfied: requests<3,>=2.24.0 in c:\\users\\msi1\\anaconda3\\lib\\site-packages (from ydata-profiling->pandas-profiling) (2.28.1)\n",
            "Requirement already satisfied: PyWavelets in c:\\users\\msi1\\anaconda3\\lib\\site-packages (from imagehash==4.3.1->ydata-profiling->pandas-profiling) (1.4.1)\n",
            "Requirement already satisfied: pillow in c:\\users\\msi1\\anaconda3\\lib\\site-packages (from imagehash==4.3.1->ydata-profiling->pandas-profiling) (9.4.0)\n",
            "Requirement already satisfied: networkx>=2.4 in c:\\users\\msi1\\anaconda3\\lib\\site-packages (from visions[type_image_path]==0.7.5->ydata-profiling->pandas-profiling) (2.8.4)\n",
            "Requirement already satisfied: attrs>=19.3.0 in c:\\users\\msi1\\anaconda3\\lib\\site-packages (from visions[type_image_path]==0.7.5->ydata-profiling->pandas-profiling) (22.1.0)\n",
            "Requirement already satisfied: tangled-up-in-unicode>=0.0.4 in c:\\users\\msi1\\anaconda3\\lib\\site-packages (from visions[type_image_path]==0.7.5->ydata-profiling->pandas-profiling) (0.2.0)\n",
            "Requirement already satisfied: MarkupSafe>=2.0 in c:\\users\\msi1\\anaconda3\\lib\\site-packages (from jinja2<3.2,>=2.11.1->ydata-profiling->pandas-profiling) (2.1.1)\n",
            "Requirement already satisfied: kiwisolver>=1.0.1 in c:\\users\\msi1\\anaconda3\\lib\\site-packages (from matplotlib<4,>=3.2->ydata-profiling->pandas-profiling) (1.4.4)\n",
            "Requirement already satisfied: cycler>=0.10 in c:\\users\\msi1\\anaconda3\\lib\\site-packages (from matplotlib<4,>=3.2->ydata-profiling->pandas-profiling) (0.11.0)\n",
            "Requirement already satisfied: pyparsing>=2.3.1 in c:\\users\\msi1\\anaconda3\\lib\\site-packages (from matplotlib<4,>=3.2->ydata-profiling->pandas-profiling) (3.0.9)\n",
            "Requirement already satisfied: fonttools>=4.22.0 in c:\\users\\msi1\\anaconda3\\lib\\site-packages (from matplotlib<4,>=3.2->ydata-profiling->pandas-profiling) (4.25.0)\n",
            "Requirement already satisfied: packaging>=20.0 in c:\\users\\msi1\\anaconda3\\lib\\site-packages (from matplotlib<4,>=3.2->ydata-profiling->pandas-profiling) (22.0)\n",
            "Requirement already satisfied: python-dateutil>=2.7 in c:\\users\\msi1\\anaconda3\\lib\\site-packages (from matplotlib<4,>=3.2->ydata-profiling->pandas-profiling) (2.8.2)\n",
            "Requirement already satisfied: contourpy>=1.0.1 in c:\\users\\msi1\\anaconda3\\lib\\site-packages (from matplotlib<4,>=3.2->ydata-profiling->pandas-profiling) (1.0.5)\n",
            "Requirement already satisfied: pytz>=2020.1 in c:\\users\\msi1\\anaconda3\\lib\\site-packages (from pandas!=1.4.0,<2.1,>1.1->ydata-profiling->pandas-profiling) (2022.7)\n",
            "Requirement already satisfied: joblib>=0.14.1 in c:\\users\\msi1\\anaconda3\\lib\\site-packages (from phik<0.13,>=0.11.1->ydata-profiling->pandas-profiling) (1.1.1)\n",
            "Requirement already satisfied: typing-extensions>=4.2.0 in c:\\users\\msi1\\anaconda3\\lib\\site-packages (from pydantic<2,>=1.8.1->ydata-profiling->pandas-profiling) (4.4.0)\n",
            "Requirement already satisfied: idna<4,>=2.5 in c:\\users\\msi1\\anaconda3\\lib\\site-packages (from requests<3,>=2.24.0->ydata-profiling->pandas-profiling) (3.4)\n",
            "Requirement already satisfied: charset-normalizer<3,>=2 in c:\\users\\msi1\\anaconda3\\lib\\site-packages (from requests<3,>=2.24.0->ydata-profiling->pandas-profiling) (2.0.4)\n",
            "Requirement already satisfied: certifi>=2017.4.17 in c:\\users\\msi1\\anaconda3\\lib\\site-packages (from requests<3,>=2.24.0->ydata-profiling->pandas-profiling) (2023.7.22)\n",
            "Requirement already satisfied: urllib3<1.27,>=1.21.1 in c:\\users\\msi1\\anaconda3\\lib\\site-packages (from requests<3,>=2.24.0->ydata-profiling->pandas-profiling) (1.26.14)\n",
            "Requirement already satisfied: patsy>=0.5.2 in c:\\users\\msi1\\anaconda3\\lib\\site-packages (from statsmodels<1,>=0.13.2->ydata-profiling->pandas-profiling) (0.5.3)\n",
            "Requirement already satisfied: colorama in c:\\users\\msi1\\anaconda3\\lib\\site-packages (from tqdm<5,>=4.48.2->ydata-profiling->pandas-profiling) (0.4.6)\n",
            "Requirement already satisfied: six in c:\\users\\msi1\\anaconda3\\lib\\site-packages (from patsy>=0.5.2->statsmodels<1,>=0.13.2->ydata-profiling->pandas-profiling) (1.16.0)\n"
          ]
        }
      ],
      "source": [
        "!pip install pandas-profiling"
      ]
    },
    {
      "cell_type": "code",
      "execution_count": 4,
      "id": "1dd57f57",
      "metadata": {},
      "outputs": [
        {
          "name": "stderr",
          "output_type": "stream",
          "text": [
            "C:\\Users\\msi1\\AppData\\Local\\Temp\\ipykernel_16200\\762210733.py:1: DeprecationWarning: `import pandas_profiling` is going to be deprecated by April 1st. Please use `import ydata_profiling` instead.\n",
            "  from pandas_profiling import ProfileReport\n"
          ]
        },
        {
          "data": {
            "application/vnd.jupyter.widget-view+json": {
              "model_id": "360f981aa20c45829e6136fd3599c691",
              "version_major": 2,
              "version_minor": 0
            },
            "text/plain": [
              "Summarize dataset:   0%|          | 0/5 [00:00<?, ?it/s]"
            ]
          },
          "metadata": {},
          "output_type": "display_data"
        },
        {
          "data": {
            "application/vnd.jupyter.widget-view+json": {
              "model_id": "ebc0d3409f0f4aec86a6246ae0d58994",
              "version_major": 2,
              "version_minor": 0
            },
            "text/plain": [
              "Generate report structure:   0%|          | 0/1 [00:00<?, ?it/s]"
            ]
          },
          "metadata": {},
          "output_type": "display_data"
        },
        {
          "data": {
            "application/vnd.jupyter.widget-view+json": {
              "model_id": "a162ae0f9eb443a7ab38008860fc88d4",
              "version_major": 2,
              "version_minor": 0
            },
            "text/plain": [
              "Render HTML:   0%|          | 0/1 [00:00<?, ?it/s]"
            ]
          },
          "metadata": {},
          "output_type": "display_data"
        },
        {
          "data": {
            "application/vnd.jupyter.widget-view+json": {
              "model_id": "f124987d5b994bf1ab9e7f90c87b3f99",
              "version_major": 2,
              "version_minor": 0
            },
            "text/plain": [
              "Export report to file:   0%|          | 0/1 [00:00<?, ?it/s]"
            ]
          },
          "metadata": {},
          "output_type": "display_data"
        }
      ],
      "source": [
        "from pandas_profiling import ProfileReport\n",
        "prof = ProfileReport(FDI)\n",
        "prof.to_file(output_file='output.html')"
      ]
    },
    {
      "cell_type": "code",
      "execution_count": 5,
      "id": "15c32009",
      "metadata": {
        "colab": {
          "base_uri": "https://localhost:8080/"
        },
        "id": "15c32009",
        "outputId": "2ab5cf3a-62ae-47c0-a539-74ca9d9e2a32"
      },
      "outputs": [
        {
          "data": {
            "text/plain": [
              "Index(['Sector', '2000-01', '2001-02', '2002-03', '2003-04', '2004-05',\n",
              "       '2005-06', '2006-07', '2007-08', '2008-09', '2009-10', '2010-11',\n",
              "       '2011-12', '2012-13', '2013-14', '2014-15', '2015-16', '2016-17'],\n",
              "      dtype='object')"
            ]
          },
          "execution_count": 5,
          "metadata": {},
          "output_type": "execute_result"
        }
      ],
      "source": [
        "FDI.columns"
      ]
    },
    {
      "cell_type": "markdown",
      "id": "05223d8f",
      "metadata": {
        "id": "05223d8f"
      },
      "source": [
        "### Columns Details:"
      ]
    },
    {
      "cell_type": "markdown",
      "id": "86b49430",
      "metadata": {
        "id": "86b49430"
      },
      "source": [
        "**Their are two types of Columns**\n",
        "1. First Column is the 'Sector' Column in which there are 63 different Sectors that have received FDI from 2000-01 to 2016-17.\n",
        "2. Other columns are Year-wise columns in which we can see how much different sectors received investment from 2000-01 to 2016-17.\n"
      ]
    },
    {
      "cell_type": "code",
      "execution_count": 6,
      "id": "6be1ab53",
      "metadata": {
        "id": "6be1ab53"
      },
      "outputs": [],
      "source": [
        "Year = ['2000-01', '2001-02', '2002-03', '2003-04', '2004-05',\n",
        "       '2005-06', '2006-07', '2007-08', '2008-09', '2009-10', '2010-11',\n",
        "       '2011-12', '2012-13', '2013-14', '2014-15', '2015-16', '2016-17']\n",
        "Sectors = ['Sector']"
      ]
    },
    {
      "cell_type": "code",
      "execution_count": 7,
      "id": "54e270d7",
      "metadata": {
        "colab": {
          "base_uri": "https://localhost:8080/"
        },
        "id": "54e270d7",
        "outputId": "39e5c9a0-b0e2-4fb4-e888-bc310ab2372b"
      },
      "outputs": [
        {
          "name": "stdout",
          "output_type": "stream",
          "text": [
            "<class 'pandas.core.frame.DataFrame'>\n",
            "RangeIndex: 63 entries, 0 to 62\n",
            "Data columns (total 18 columns):\n",
            " #   Column   Non-Null Count  Dtype  \n",
            "---  ------   --------------  -----  \n",
            " 0   Sector   63 non-null     object \n",
            " 1   2000-01  63 non-null     float64\n",
            " 2   2001-02  63 non-null     float64\n",
            " 3   2002-03  63 non-null     float64\n",
            " 4   2003-04  63 non-null     float64\n",
            " 5   2004-05  63 non-null     float64\n",
            " 6   2005-06  63 non-null     float64\n",
            " 7   2006-07  63 non-null     float64\n",
            " 8   2007-08  63 non-null     float64\n",
            " 9   2008-09  63 non-null     float64\n",
            " 10  2009-10  63 non-null     float64\n",
            " 11  2010-11  63 non-null     float64\n",
            " 12  2011-12  63 non-null     float64\n",
            " 13  2012-13  63 non-null     float64\n",
            " 14  2013-14  63 non-null     float64\n",
            " 15  2014-15  63 non-null     float64\n",
            " 16  2015-16  63 non-null     float64\n",
            " 17  2016-17  63 non-null     float64\n",
            "dtypes: float64(17), object(1)\n",
            "memory usage: 9.0+ KB\n"
          ]
        }
      ],
      "source": [
        "#Extracting Detailed Information\n",
        "FDI.info()"
      ]
    },
    {
      "cell_type": "code",
      "execution_count": 8,
      "id": "b734303d",
      "metadata": {
        "colab": {
          "base_uri": "https://localhost:8080/"
        },
        "id": "b734303d",
        "outputId": "75fc846a-43ac-468a-e197-bc1f68833280"
      },
      "outputs": [
        {
          "data": {
            "text/plain": [
              "Sector     0\n",
              "2000-01    0\n",
              "2001-02    0\n",
              "2002-03    0\n",
              "2003-04    0\n",
              "2004-05    0\n",
              "2005-06    0\n",
              "2006-07    0\n",
              "2007-08    0\n",
              "2008-09    0\n",
              "2009-10    0\n",
              "2010-11    0\n",
              "2011-12    0\n",
              "2012-13    0\n",
              "2013-14    0\n",
              "2014-15    0\n",
              "2015-16    0\n",
              "2016-17    0\n",
              "dtype: int64"
            ]
          },
          "execution_count": 8,
          "metadata": {},
          "output_type": "execute_result"
        }
      ],
      "source": [
        "#Checking the null Values\n",
        "FDI.isnull().sum()"
      ]
    },
    {
      "cell_type": "code",
      "execution_count": 9,
      "id": "ce4b1333",
      "metadata": {
        "id": "ce4b1333"
      },
      "outputs": [],
      "source": [
        "#Creating Average Exchange Rate list \n",
        "Rates = [45.68,47.69,48.4,45.95,44.93,44.27,45.24,40.26,46,47.44,45.56,48,54.41,60.50,61.14,65.46,67.1]\n"
      ]
    },
    {
      "cell_type": "markdown",
      "id": "27a708c3",
      "metadata": {
        "id": "27a708c3"
      },
      "source": [
        "### Converting American '$' to Indian '₹':"
      ]
    },
    {
      "cell_type": "code",
      "execution_count": 10,
      "id": "770bb61d",
      "metadata": {
        "id": "770bb61d"
      },
      "outputs": [],
      "source": [
        "#Creating a function to Convert FDI's value from USD to INR  \n",
        "def multiply_columns(df, col_list, num):\n",
        "    for col in col_list:\n",
        "        df[col] = df[col] * Rates[col_list.index(col)]/10\n",
        "    return df"
      ]
    },
    {
      "cell_type": "code",
      "execution_count": 11,
      "id": "e4d3ca93",
      "metadata": {
        "id": "e4d3ca93"
      },
      "outputs": [],
      "source": [
        "FDI_InUSD=FDI.copy() \n",
        "FDI_02 = multiply_columns(FDI, Year, Rates)"
      ]
    },
    {
      "cell_type": "code",
      "execution_count": 12,
      "id": "25eafc8b",
      "metadata": {
        "colab": {
          "base_uri": "https://localhost:8080/",
          "height": 339
        },
        "id": "25eafc8b",
        "outputId": "3ead5e66-22f4-4d97-dbc1-6c921195ee24"
      },
      "outputs": [
        {
          "data": {
            "text/html": [
              "<div>\n",
              "<style scoped>\n",
              "    .dataframe tbody tr th:only-of-type {\n",
              "        vertical-align: middle;\n",
              "    }\n",
              "\n",
              "    .dataframe tbody tr th {\n",
              "        vertical-align: top;\n",
              "    }\n",
              "\n",
              "    .dataframe thead th {\n",
              "        text-align: right;\n",
              "    }\n",
              "</style>\n",
              "<table border=\"1\" class=\"dataframe\">\n",
              "  <thead>\n",
              "    <tr style=\"text-align: right;\">\n",
              "      <th></th>\n",
              "      <th>Sector</th>\n",
              "      <th>2000-01</th>\n",
              "      <th>2001-02</th>\n",
              "      <th>2002-03</th>\n",
              "      <th>2003-04</th>\n",
              "      <th>2004-05</th>\n",
              "      <th>2005-06</th>\n",
              "      <th>2006-07</th>\n",
              "      <th>2007-08</th>\n",
              "      <th>2008-09</th>\n",
              "      <th>2009-10</th>\n",
              "      <th>2010-11</th>\n",
              "      <th>2011-12</th>\n",
              "      <th>2012-13</th>\n",
              "      <th>2013-14</th>\n",
              "      <th>2014-15</th>\n",
              "      <th>2015-16</th>\n",
              "      <th>2016-17</th>\n",
              "    </tr>\n",
              "  </thead>\n",
              "  <tbody>\n",
              "    <tr>\n",
              "      <th>0</th>\n",
              "      <td>METALLURGICAL INDUSTRIES</td>\n",
              "      <td>103.64792</td>\n",
              "      <td>67.43366</td>\n",
              "      <td>177.1924</td>\n",
              "      <td>37.26545</td>\n",
              "      <td>900.30734</td>\n",
              "      <td>660.19851</td>\n",
              "      <td>768.80856</td>\n",
              "      <td>4733.56950</td>\n",
              "      <td>4415.724</td>\n",
              "      <td>1991.91072</td>\n",
              "      <td>5003.12584</td>\n",
              "      <td>8573.472</td>\n",
              "      <td>7977.75743</td>\n",
              "      <td>3434.1615</td>\n",
              "      <td>2197.00476</td>\n",
              "      <td>2987.00526</td>\n",
              "      <td>9663.6078</td>\n",
              "    </tr>\n",
              "    <tr>\n",
              "      <th>1</th>\n",
              "      <td>MINING</td>\n",
              "      <td>6.02976</td>\n",
              "      <td>31.09388</td>\n",
              "      <td>48.6904</td>\n",
              "      <td>107.89060</td>\n",
              "      <td>44.57056</td>\n",
              "      <td>32.75980</td>\n",
              "      <td>29.94888</td>\n",
              "      <td>1788.99336</td>\n",
              "      <td>157.136</td>\n",
              "      <td>827.35360</td>\n",
              "      <td>362.24756</td>\n",
              "      <td>684.720</td>\n",
              "      <td>314.97949</td>\n",
              "      <td>77.0165</td>\n",
              "      <td>4184.36046</td>\n",
              "      <td>3408.30582</td>\n",
              "      <td>374.0825</td>\n",
              "    </tr>\n",
              "    <tr>\n",
              "      <th>2</th>\n",
              "      <td>POWER</td>\n",
              "      <td>408.47056</td>\n",
              "      <td>3612.23136</td>\n",
              "      <td>286.0924</td>\n",
              "      <td>124.47855</td>\n",
              "      <td>194.86141</td>\n",
              "      <td>321.79863</td>\n",
              "      <td>710.94660</td>\n",
              "      <td>3980.42568</td>\n",
              "      <td>4175.236</td>\n",
              "      <td>6033.37176</td>\n",
              "      <td>5794.18412</td>\n",
              "      <td>7931.424</td>\n",
              "      <td>2914.63488</td>\n",
              "      <td>6449.7840</td>\n",
              "      <td>4322.84256</td>\n",
              "      <td>5687.16480</td>\n",
              "      <td>7468.0958</td>\n",
              "    </tr>\n",
              "    <tr>\n",
              "      <th>3</th>\n",
              "      <td>NON-CONVENTIONAL ENERGY</td>\n",
              "      <td>0.00000</td>\n",
              "      <td>0.00000</td>\n",
              "      <td>8.2280</td>\n",
              "      <td>19.02330</td>\n",
              "      <td>5.70611</td>\n",
              "      <td>5.97645</td>\n",
              "      <td>11.03856</td>\n",
              "      <td>236.80932</td>\n",
              "      <td>579.048</td>\n",
              "      <td>2953.23488</td>\n",
              "      <td>976.80640</td>\n",
              "      <td>2170.416</td>\n",
              "      <td>6020.57532</td>\n",
              "      <td>2506.2125</td>\n",
              "      <td>3765.91830</td>\n",
              "      <td>5083.03446</td>\n",
              "      <td>5257.7547</td>\n",
              "    </tr>\n",
              "    <tr>\n",
              "      <th>4</th>\n",
              "      <td>COAL PRODUCTION</td>\n",
              "      <td>0.00000</td>\n",
              "      <td>0.00000</td>\n",
              "      <td>0.0000</td>\n",
              "      <td>0.18380</td>\n",
              "      <td>0.00000</td>\n",
              "      <td>40.46278</td>\n",
              "      <td>5.88120</td>\n",
              "      <td>56.68608</td>\n",
              "      <td>1.012</td>\n",
              "      <td>0.00000</td>\n",
              "      <td>0.00000</td>\n",
              "      <td>0.000</td>\n",
              "      <td>0.00000</td>\n",
              "      <td>17.9080</td>\n",
              "      <td>0.00000</td>\n",
              "      <td>0.00000</td>\n",
              "      <td>0.0000</td>\n",
              "    </tr>\n",
              "  </tbody>\n",
              "</table>\n",
              "</div>"
            ],
            "text/plain": [
              "                     Sector    2000-01     2001-02   2002-03    2003-04  \\\n",
              "0  METALLURGICAL INDUSTRIES  103.64792    67.43366  177.1924   37.26545   \n",
              "1                    MINING    6.02976    31.09388   48.6904  107.89060   \n",
              "2                     POWER  408.47056  3612.23136  286.0924  124.47855   \n",
              "3   NON-CONVENTIONAL ENERGY    0.00000     0.00000    8.2280   19.02330   \n",
              "4           COAL PRODUCTION    0.00000     0.00000    0.0000    0.18380   \n",
              "\n",
              "     2004-05    2005-06    2006-07     2007-08   2008-09     2009-10  \\\n",
              "0  900.30734  660.19851  768.80856  4733.56950  4415.724  1991.91072   \n",
              "1   44.57056   32.75980   29.94888  1788.99336   157.136   827.35360   \n",
              "2  194.86141  321.79863  710.94660  3980.42568  4175.236  6033.37176   \n",
              "3    5.70611    5.97645   11.03856   236.80932   579.048  2953.23488   \n",
              "4    0.00000   40.46278    5.88120    56.68608     1.012     0.00000   \n",
              "\n",
              "      2010-11   2011-12     2012-13    2013-14     2014-15     2015-16  \\\n",
              "0  5003.12584  8573.472  7977.75743  3434.1615  2197.00476  2987.00526   \n",
              "1   362.24756   684.720   314.97949    77.0165  4184.36046  3408.30582   \n",
              "2  5794.18412  7931.424  2914.63488  6449.7840  4322.84256  5687.16480   \n",
              "3   976.80640  2170.416  6020.57532  2506.2125  3765.91830  5083.03446   \n",
              "4     0.00000     0.000     0.00000    17.9080     0.00000     0.00000   \n",
              "\n",
              "     2016-17  \n",
              "0  9663.6078  \n",
              "1   374.0825  \n",
              "2  7468.0958  \n",
              "3  5257.7547  \n",
              "4     0.0000  "
            ]
          },
          "execution_count": 12,
          "metadata": {},
          "output_type": "execute_result"
        }
      ],
      "source": [
        "#FDI INFLOWS (Amount in ₹ Crores)\n",
        "FDI_02.head()"
      ]
    },
    {
      "cell_type": "markdown",
      "id": "50328ff0",
      "metadata": {
        "id": "50328ff0"
      },
      "source": [
        "### Unpivoting DataFrames from wide to long format:"
      ]
    },
    {
      "cell_type": "code",
      "execution_count": 13,
      "id": "483a65e7",
      "metadata": {
        "colab": {
          "base_uri": "https://localhost:8080/",
          "height": 423
        },
        "id": "483a65e7",
        "outputId": "f49588a2-b25d-4123-c3ad-143fe13f8ff8"
      },
      "outputs": [
        {
          "data": {
            "text/html": [
              "<div>\n",
              "<style scoped>\n",
              "    .dataframe tbody tr th:only-of-type {\n",
              "        vertical-align: middle;\n",
              "    }\n",
              "\n",
              "    .dataframe tbody tr th {\n",
              "        vertical-align: top;\n",
              "    }\n",
              "\n",
              "    .dataframe thead th {\n",
              "        text-align: right;\n",
              "    }\n",
              "</style>\n",
              "<table border=\"1\" class=\"dataframe\">\n",
              "  <thead>\n",
              "    <tr style=\"text-align: right;\">\n",
              "      <th></th>\n",
              "      <th>Sector</th>\n",
              "      <th>Year</th>\n",
              "      <th>FDI(US$ Million)</th>\n",
              "    </tr>\n",
              "  </thead>\n",
              "  <tbody>\n",
              "    <tr>\n",
              "      <th>0</th>\n",
              "      <td>METALLURGICAL INDUSTRIES</td>\n",
              "      <td>2000-01</td>\n",
              "      <td>22.69</td>\n",
              "    </tr>\n",
              "    <tr>\n",
              "      <th>1</th>\n",
              "      <td>MINING</td>\n",
              "      <td>2000-01</td>\n",
              "      <td>1.32</td>\n",
              "    </tr>\n",
              "    <tr>\n",
              "      <th>2</th>\n",
              "      <td>POWER</td>\n",
              "      <td>2000-01</td>\n",
              "      <td>89.42</td>\n",
              "    </tr>\n",
              "    <tr>\n",
              "      <th>3</th>\n",
              "      <td>NON-CONVENTIONAL ENERGY</td>\n",
              "      <td>2000-01</td>\n",
              "      <td>0.00</td>\n",
              "    </tr>\n",
              "    <tr>\n",
              "      <th>4</th>\n",
              "      <td>COAL PRODUCTION</td>\n",
              "      <td>2000-01</td>\n",
              "      <td>0.00</td>\n",
              "    </tr>\n",
              "    <tr>\n",
              "      <th>...</th>\n",
              "      <td>...</td>\n",
              "      <td>...</td>\n",
              "      <td>...</td>\n",
              "    </tr>\n",
              "    <tr>\n",
              "      <th>1066</th>\n",
              "      <td>PRINTING OF BOOKS (INCLUDING LITHO PRINTING IN...</td>\n",
              "      <td>2016-17</td>\n",
              "      <td>53.17</td>\n",
              "    </tr>\n",
              "    <tr>\n",
              "      <th>1067</th>\n",
              "      <td>COIR</td>\n",
              "      <td>2016-17</td>\n",
              "      <td>0.00</td>\n",
              "    </tr>\n",
              "    <tr>\n",
              "      <th>1068</th>\n",
              "      <td>CONSTRUCTION (INFRASTRUCTURE) ACTIVITIES</td>\n",
              "      <td>2016-17</td>\n",
              "      <td>1860.73</td>\n",
              "    </tr>\n",
              "    <tr>\n",
              "      <th>1069</th>\n",
              "      <td>CONSTRUCTION DEVELOPMENT: Townships, housing, ...</td>\n",
              "      <td>2016-17</td>\n",
              "      <td>105.14</td>\n",
              "    </tr>\n",
              "    <tr>\n",
              "      <th>1070</th>\n",
              "      <td>MISCELLANEOUS INDUSTRIES</td>\n",
              "      <td>2016-17</td>\n",
              "      <td>296.40</td>\n",
              "    </tr>\n",
              "  </tbody>\n",
              "</table>\n",
              "<p>1071 rows × 3 columns</p>\n",
              "</div>"
            ],
            "text/plain": [
              "                                                 Sector     Year  \\\n",
              "0                              METALLURGICAL INDUSTRIES  2000-01   \n",
              "1                                                MINING  2000-01   \n",
              "2                                                 POWER  2000-01   \n",
              "3                               NON-CONVENTIONAL ENERGY  2000-01   \n",
              "4                                       COAL PRODUCTION  2000-01   \n",
              "...                                                 ...      ...   \n",
              "1066  PRINTING OF BOOKS (INCLUDING LITHO PRINTING IN...  2016-17   \n",
              "1067                                               COIR  2016-17   \n",
              "1068           CONSTRUCTION (INFRASTRUCTURE) ACTIVITIES  2016-17   \n",
              "1069  CONSTRUCTION DEVELOPMENT: Townships, housing, ...  2016-17   \n",
              "1070                           MISCELLANEOUS INDUSTRIES  2016-17   \n",
              "\n",
              "      FDI(US$ Million)  \n",
              "0                22.69  \n",
              "1                 1.32  \n",
              "2                89.42  \n",
              "3                 0.00  \n",
              "4                 0.00  \n",
              "...                ...  \n",
              "1066             53.17  \n",
              "1067              0.00  \n",
              "1068           1860.73  \n",
              "1069            105.14  \n",
              "1070            296.40  \n",
              "\n",
              "[1071 rows x 3 columns]"
            ]
          },
          "execution_count": 13,
          "metadata": {},
          "output_type": "execute_result"
        }
      ],
      "source": [
        "# Unpivoting melt Dataframe\n",
        "melt = pd.melt(FDI_InUSD, id_vars = Sectors, value_vars = Year, var_name='Year',\n",
        "    value_name='FDI(US$ Million)',ignore_index=True)\n",
        "melt"
      ]
    },
    {
      "cell_type": "code",
      "execution_count": 14,
      "id": "209843ad",
      "metadata": {
        "colab": {
          "base_uri": "https://localhost:8080/",
          "height": 423
        },
        "id": "209843ad",
        "outputId": "8a290acc-88e8-42ac-e358-cbb5868da39a"
      },
      "outputs": [
        {
          "data": {
            "text/html": [
              "<div>\n",
              "<style scoped>\n",
              "    .dataframe tbody tr th:only-of-type {\n",
              "        vertical-align: middle;\n",
              "    }\n",
              "\n",
              "    .dataframe tbody tr th {\n",
              "        vertical-align: top;\n",
              "    }\n",
              "\n",
              "    .dataframe thead th {\n",
              "        text-align: right;\n",
              "    }\n",
              "</style>\n",
              "<table border=\"1\" class=\"dataframe\">\n",
              "  <thead>\n",
              "    <tr style=\"text-align: right;\">\n",
              "      <th></th>\n",
              "      <th>Sector</th>\n",
              "      <th>Year</th>\n",
              "      <th>FDI(₹ Crores)</th>\n",
              "    </tr>\n",
              "  </thead>\n",
              "  <tbody>\n",
              "    <tr>\n",
              "      <th>0</th>\n",
              "      <td>METALLURGICAL INDUSTRIES</td>\n",
              "      <td>2000-01</td>\n",
              "      <td>103.65</td>\n",
              "    </tr>\n",
              "    <tr>\n",
              "      <th>1</th>\n",
              "      <td>MINING</td>\n",
              "      <td>2000-01</td>\n",
              "      <td>6.03</td>\n",
              "    </tr>\n",
              "    <tr>\n",
              "      <th>2</th>\n",
              "      <td>POWER</td>\n",
              "      <td>2000-01</td>\n",
              "      <td>408.47</td>\n",
              "    </tr>\n",
              "    <tr>\n",
              "      <th>3</th>\n",
              "      <td>NON-CONVENTIONAL ENERGY</td>\n",
              "      <td>2000-01</td>\n",
              "      <td>0.00</td>\n",
              "    </tr>\n",
              "    <tr>\n",
              "      <th>4</th>\n",
              "      <td>COAL PRODUCTION</td>\n",
              "      <td>2000-01</td>\n",
              "      <td>0.00</td>\n",
              "    </tr>\n",
              "    <tr>\n",
              "      <th>...</th>\n",
              "      <td>...</td>\n",
              "      <td>...</td>\n",
              "      <td>...</td>\n",
              "    </tr>\n",
              "    <tr>\n",
              "      <th>1066</th>\n",
              "      <td>PRINTING OF BOOKS (INCLUDING LITHO PRINTING IN...</td>\n",
              "      <td>2016-17</td>\n",
              "      <td>356.77</td>\n",
              "    </tr>\n",
              "    <tr>\n",
              "      <th>1067</th>\n",
              "      <td>COIR</td>\n",
              "      <td>2016-17</td>\n",
              "      <td>0.00</td>\n",
              "    </tr>\n",
              "    <tr>\n",
              "      <th>1068</th>\n",
              "      <td>CONSTRUCTION (INFRASTRUCTURE) ACTIVITIES</td>\n",
              "      <td>2016-17</td>\n",
              "      <td>12485.50</td>\n",
              "    </tr>\n",
              "    <tr>\n",
              "      <th>1069</th>\n",
              "      <td>CONSTRUCTION DEVELOPMENT: Townships, housing, ...</td>\n",
              "      <td>2016-17</td>\n",
              "      <td>705.49</td>\n",
              "    </tr>\n",
              "    <tr>\n",
              "      <th>1070</th>\n",
              "      <td>MISCELLANEOUS INDUSTRIES</td>\n",
              "      <td>2016-17</td>\n",
              "      <td>1988.84</td>\n",
              "    </tr>\n",
              "  </tbody>\n",
              "</table>\n",
              "<p>1071 rows × 3 columns</p>\n",
              "</div>"
            ],
            "text/plain": [
              "                                                 Sector     Year  \\\n",
              "0                              METALLURGICAL INDUSTRIES  2000-01   \n",
              "1                                                MINING  2000-01   \n",
              "2                                                 POWER  2000-01   \n",
              "3                               NON-CONVENTIONAL ENERGY  2000-01   \n",
              "4                                       COAL PRODUCTION  2000-01   \n",
              "...                                                 ...      ...   \n",
              "1066  PRINTING OF BOOKS (INCLUDING LITHO PRINTING IN...  2016-17   \n",
              "1067                                               COIR  2016-17   \n",
              "1068           CONSTRUCTION (INFRASTRUCTURE) ACTIVITIES  2016-17   \n",
              "1069  CONSTRUCTION DEVELOPMENT: Townships, housing, ...  2016-17   \n",
              "1070                           MISCELLANEOUS INDUSTRIES  2016-17   \n",
              "\n",
              "      FDI(₹ Crores)  \n",
              "0            103.65  \n",
              "1              6.03  \n",
              "2            408.47  \n",
              "3              0.00  \n",
              "4              0.00  \n",
              "...             ...  \n",
              "1066         356.77  \n",
              "1067           0.00  \n",
              "1068       12485.50  \n",
              "1069         705.49  \n",
              "1070        1988.84  \n",
              "\n",
              "[1071 rows x 3 columns]"
            ]
          },
          "execution_count": 14,
          "metadata": {},
          "output_type": "execute_result"
        }
      ],
      "source": [
        "#Unpivoting melt01 Dataframe\n",
        "melt01 = pd.melt(FDI_02, id_vars = Sectors, value_vars = Year, var_name='Year',\n",
        "    value_name='FDI(₹ Crores)',ignore_index=True)\n",
        "melt01=round(melt01,2)\n",
        "melt01"
      ]
    },
    {
      "cell_type": "code",
      "execution_count": 15,
      "id": "421cc312",
      "metadata": {
        "colab": {
          "base_uri": "https://localhost:8080/",
          "height": 423
        },
        "id": "421cc312",
        "outputId": "cd6b0840-1d4c-45af-ee94-392dc5cfbe9a"
      },
      "outputs": [
        {
          "data": {
            "text/html": [
              "<div>\n",
              "<style scoped>\n",
              "    .dataframe tbody tr th:only-of-type {\n",
              "        vertical-align: middle;\n",
              "    }\n",
              "\n",
              "    .dataframe tbody tr th {\n",
              "        vertical-align: top;\n",
              "    }\n",
              "\n",
              "    .dataframe thead th {\n",
              "        text-align: right;\n",
              "    }\n",
              "</style>\n",
              "<table border=\"1\" class=\"dataframe\">\n",
              "  <thead>\n",
              "    <tr style=\"text-align: right;\">\n",
              "      <th></th>\n",
              "      <th>Sector</th>\n",
              "      <th>Year</th>\n",
              "      <th>FDI(₹ Crores)</th>\n",
              "      <th>FDI(US$ Million)</th>\n",
              "    </tr>\n",
              "  </thead>\n",
              "  <tbody>\n",
              "    <tr>\n",
              "      <th>0</th>\n",
              "      <td>METALLURGICAL INDUSTRIES</td>\n",
              "      <td>2000-01</td>\n",
              "      <td>103.65</td>\n",
              "      <td>22.69</td>\n",
              "    </tr>\n",
              "    <tr>\n",
              "      <th>1</th>\n",
              "      <td>MINING</td>\n",
              "      <td>2000-01</td>\n",
              "      <td>6.03</td>\n",
              "      <td>1.32</td>\n",
              "    </tr>\n",
              "    <tr>\n",
              "      <th>2</th>\n",
              "      <td>POWER</td>\n",
              "      <td>2000-01</td>\n",
              "      <td>408.47</td>\n",
              "      <td>89.42</td>\n",
              "    </tr>\n",
              "    <tr>\n",
              "      <th>3</th>\n",
              "      <td>NON-CONVENTIONAL ENERGY</td>\n",
              "      <td>2000-01</td>\n",
              "      <td>0.00</td>\n",
              "      <td>0.00</td>\n",
              "    </tr>\n",
              "    <tr>\n",
              "      <th>4</th>\n",
              "      <td>COAL PRODUCTION</td>\n",
              "      <td>2000-01</td>\n",
              "      <td>0.00</td>\n",
              "      <td>0.00</td>\n",
              "    </tr>\n",
              "    <tr>\n",
              "      <th>...</th>\n",
              "      <td>...</td>\n",
              "      <td>...</td>\n",
              "      <td>...</td>\n",
              "      <td>...</td>\n",
              "    </tr>\n",
              "    <tr>\n",
              "      <th>1066</th>\n",
              "      <td>PRINTING OF BOOKS (INCLUDING LITHO PRINTING IN...</td>\n",
              "      <td>2016-17</td>\n",
              "      <td>356.77</td>\n",
              "      <td>53.17</td>\n",
              "    </tr>\n",
              "    <tr>\n",
              "      <th>1067</th>\n",
              "      <td>COIR</td>\n",
              "      <td>2016-17</td>\n",
              "      <td>0.00</td>\n",
              "      <td>0.00</td>\n",
              "    </tr>\n",
              "    <tr>\n",
              "      <th>1068</th>\n",
              "      <td>CONSTRUCTION (INFRASTRUCTURE) ACTIVITIES</td>\n",
              "      <td>2016-17</td>\n",
              "      <td>12485.50</td>\n",
              "      <td>1860.73</td>\n",
              "    </tr>\n",
              "    <tr>\n",
              "      <th>1069</th>\n",
              "      <td>CONSTRUCTION DEVELOPMENT: Townships, housing, ...</td>\n",
              "      <td>2016-17</td>\n",
              "      <td>705.49</td>\n",
              "      <td>105.14</td>\n",
              "    </tr>\n",
              "    <tr>\n",
              "      <th>1070</th>\n",
              "      <td>MISCELLANEOUS INDUSTRIES</td>\n",
              "      <td>2016-17</td>\n",
              "      <td>1988.84</td>\n",
              "      <td>296.40</td>\n",
              "    </tr>\n",
              "  </tbody>\n",
              "</table>\n",
              "<p>1071 rows × 4 columns</p>\n",
              "</div>"
            ],
            "text/plain": [
              "                                                 Sector     Year  \\\n",
              "0                              METALLURGICAL INDUSTRIES  2000-01   \n",
              "1                                                MINING  2000-01   \n",
              "2                                                 POWER  2000-01   \n",
              "3                               NON-CONVENTIONAL ENERGY  2000-01   \n",
              "4                                       COAL PRODUCTION  2000-01   \n",
              "...                                                 ...      ...   \n",
              "1066  PRINTING OF BOOKS (INCLUDING LITHO PRINTING IN...  2016-17   \n",
              "1067                                               COIR  2016-17   \n",
              "1068           CONSTRUCTION (INFRASTRUCTURE) ACTIVITIES  2016-17   \n",
              "1069  CONSTRUCTION DEVELOPMENT: Townships, housing, ...  2016-17   \n",
              "1070                           MISCELLANEOUS INDUSTRIES  2016-17   \n",
              "\n",
              "      FDI(₹ Crores)  FDI(US$ Million)  \n",
              "0            103.65             22.69  \n",
              "1              6.03              1.32  \n",
              "2            408.47             89.42  \n",
              "3              0.00              0.00  \n",
              "4              0.00              0.00  \n",
              "...             ...               ...  \n",
              "1066         356.77             53.17  \n",
              "1067           0.00              0.00  \n",
              "1068       12485.50           1860.73  \n",
              "1069         705.49            105.14  \n",
              "1070        1988.84            296.40  \n",
              "\n",
              "[1071 rows x 4 columns]"
            ]
          },
          "execution_count": 15,
          "metadata": {},
          "output_type": "execute_result"
        }
      ],
      "source": [
        "# Merging the FDI(USD Million) column of melt Dataframe into melto1 Dataframe\n",
        "Merged=melt01.merge(melt,how='left')\n",
        "Merged"
      ]
    },
    {
      "cell_type": "code",
      "execution_count": 16,
      "id": "2583d7cc",
      "metadata": {
        "colab": {
          "base_uri": "https://localhost:8080/",
          "height": 423
        },
        "id": "2583d7cc",
        "outputId": "d697ba8b-e25e-4f0c-d74a-0301d396bb44"
      },
      "outputs": [
        {
          "data": {
            "text/html": [
              "<div>\n",
              "<style scoped>\n",
              "    .dataframe tbody tr th:only-of-type {\n",
              "        vertical-align: middle;\n",
              "    }\n",
              "\n",
              "    .dataframe tbody tr th {\n",
              "        vertical-align: top;\n",
              "    }\n",
              "\n",
              "    .dataframe thead th {\n",
              "        text-align: right;\n",
              "    }\n",
              "</style>\n",
              "<table border=\"1\" class=\"dataframe\">\n",
              "  <thead>\n",
              "    <tr style=\"text-align: right;\">\n",
              "      <th></th>\n",
              "      <th>Sector</th>\n",
              "      <th>Year</th>\n",
              "      <th>FDI(₹ Crores)</th>\n",
              "      <th>FDI(US$ Million)</th>\n",
              "    </tr>\n",
              "  </thead>\n",
              "  <tbody>\n",
              "    <tr>\n",
              "      <th>0</th>\n",
              "      <td>AGRICULTURAL MACHINERY</td>\n",
              "      <td>2000-01</td>\n",
              "      <td>16.63</td>\n",
              "      <td>3.64</td>\n",
              "    </tr>\n",
              "    <tr>\n",
              "      <th>1</th>\n",
              "      <td>AGRICULTURAL MACHINERY</td>\n",
              "      <td>2001-02</td>\n",
              "      <td>4.96</td>\n",
              "      <td>1.04</td>\n",
              "    </tr>\n",
              "    <tr>\n",
              "      <th>2</th>\n",
              "      <td>AGRICULTURAL MACHINERY</td>\n",
              "      <td>2002-03</td>\n",
              "      <td>65.24</td>\n",
              "      <td>13.48</td>\n",
              "    </tr>\n",
              "    <tr>\n",
              "      <th>3</th>\n",
              "      <td>AGRICULTURAL MACHINERY</td>\n",
              "      <td>2003-04</td>\n",
              "      <td>218.45</td>\n",
              "      <td>47.54</td>\n",
              "    </tr>\n",
              "    <tr>\n",
              "      <th>4</th>\n",
              "      <td>AGRICULTURAL MACHINERY</td>\n",
              "      <td>2004-05</td>\n",
              "      <td>0.00</td>\n",
              "      <td>0.00</td>\n",
              "    </tr>\n",
              "    <tr>\n",
              "      <th>...</th>\n",
              "      <td>...</td>\n",
              "      <td>...</td>\n",
              "      <td>...</td>\n",
              "      <td>...</td>\n",
              "    </tr>\n",
              "    <tr>\n",
              "      <th>1066</th>\n",
              "      <td>VEGETABLE OILS AND VANASPATI</td>\n",
              "      <td>2012-13</td>\n",
              "      <td>589.75</td>\n",
              "      <td>108.39</td>\n",
              "    </tr>\n",
              "    <tr>\n",
              "      <th>1067</th>\n",
              "      <td>VEGETABLE OILS AND VANASPATI</td>\n",
              "      <td>2013-14</td>\n",
              "      <td>130.38</td>\n",
              "      <td>21.55</td>\n",
              "    </tr>\n",
              "    <tr>\n",
              "      <th>1068</th>\n",
              "      <td>VEGETABLE OILS AND VANASPATI</td>\n",
              "      <td>2014-15</td>\n",
              "      <td>906.95</td>\n",
              "      <td>148.34</td>\n",
              "    </tr>\n",
              "    <tr>\n",
              "      <th>1069</th>\n",
              "      <td>VEGETABLE OILS AND VANASPATI</td>\n",
              "      <td>2015-16</td>\n",
              "      <td>224.00</td>\n",
              "      <td>34.22</td>\n",
              "    </tr>\n",
              "    <tr>\n",
              "      <th>1070</th>\n",
              "      <td>VEGETABLE OILS AND VANASPATI</td>\n",
              "      <td>2016-17</td>\n",
              "      <td>727.70</td>\n",
              "      <td>108.45</td>\n",
              "    </tr>\n",
              "  </tbody>\n",
              "</table>\n",
              "<p>1071 rows × 4 columns</p>\n",
              "</div>"
            ],
            "text/plain": [
              "                            Sector     Year  FDI(₹ Crores)  FDI(US$ Million)\n",
              "0           AGRICULTURAL MACHINERY  2000-01          16.63              3.64\n",
              "1           AGRICULTURAL MACHINERY  2001-02           4.96              1.04\n",
              "2           AGRICULTURAL MACHINERY  2002-03          65.24             13.48\n",
              "3           AGRICULTURAL MACHINERY  2003-04         218.45             47.54\n",
              "4           AGRICULTURAL MACHINERY  2004-05           0.00              0.00\n",
              "...                            ...      ...            ...               ...\n",
              "1066  VEGETABLE OILS AND VANASPATI  2012-13         589.75            108.39\n",
              "1067  VEGETABLE OILS AND VANASPATI  2013-14         130.38             21.55\n",
              "1068  VEGETABLE OILS AND VANASPATI  2014-15         906.95            148.34\n",
              "1069  VEGETABLE OILS AND VANASPATI  2015-16         224.00             34.22\n",
              "1070  VEGETABLE OILS AND VANASPATI  2016-17         727.70            108.45\n",
              "\n",
              "[1071 rows x 4 columns]"
            ]
          },
          "execution_count": 16,
          "metadata": {},
          "output_type": "execute_result"
        }
      ],
      "source": [
        "#Sorting the Sectors and Year columns\n",
        "Sorted = Merged.sort_values(['Sector','Year'], ignore_index=True)\n",
        "Sorted"
      ]
    },
    {
      "cell_type": "code",
      "execution_count": 17,
      "id": "4b0a7f0a",
      "metadata": {
        "id": "4b0a7f0a"
      },
      "outputs": [],
      "source": [
        "#Repalcing some Long values of Sector Column to Short form\n",
        "Sorted = Sorted[['Sector','FDI(₹ Crores)', 'FDI(US$ Million)'\n",
        "                 ,]].replace([\"CONSTRUCTION DEVELOPMENT: Townships, housing, built-up infrastructure and construction-development projects\"\n",
        "                              ,\"SERVICES SECTOR (Fin.,Banking,Insurance,Non Fin/Business,Outsourcing,R&D,Courier,Tech. Testing and Analysis, Other)\"\n",
        "                              ,'TEA AND COFFEE (PROCESSING & WAREHOUSING COFFEE & RUBBER)']\n",
        "                             ,[\"CONSTRUCTION DEVELOPMENT\",\"SERVICES SECTOR\",'TEA AND COFFEE'])"
      ]
    },
    {
      "cell_type": "markdown",
      "id": "8b8931e2",
      "metadata": {
        "id": "8b8931e2"
      },
      "source": [
        "## Sector-wise Total FDI 2000-17:"
      ]
    },
    {
      "cell_type": "code",
      "execution_count": 18,
      "id": "c64ef139",
      "metadata": {
        "colab": {
          "base_uri": "https://localhost:8080/",
          "height": 455
        },
        "id": "c64ef139",
        "outputId": "29171dce-2b78-495c-846f-3637b7121410"
      },
      "outputs": [
        {
          "data": {
            "text/html": [
              "<div>\n",
              "<style scoped>\n",
              "    .dataframe tbody tr th:only-of-type {\n",
              "        vertical-align: middle;\n",
              "    }\n",
              "\n",
              "    .dataframe tbody tr th {\n",
              "        vertical-align: top;\n",
              "    }\n",
              "\n",
              "    .dataframe thead th {\n",
              "        text-align: right;\n",
              "    }\n",
              "</style>\n",
              "<table border=\"1\" class=\"dataframe\">\n",
              "  <thead>\n",
              "    <tr style=\"text-align: right;\">\n",
              "      <th></th>\n",
              "      <th>FDI(₹ Crores)</th>\n",
              "      <th>FDI(US$ Million)</th>\n",
              "    </tr>\n",
              "    <tr>\n",
              "      <th>Sector</th>\n",
              "      <th></th>\n",
              "      <th></th>\n",
              "    </tr>\n",
              "  </thead>\n",
              "  <tbody>\n",
              "    <tr>\n",
              "      <th>SERVICES SECTOR</th>\n",
              "      <td>316426.67</td>\n",
              "      <td>59476.49</td>\n",
              "    </tr>\n",
              "    <tr>\n",
              "      <th>COMPUTER SOFTWARE &amp; HARDWARE</th>\n",
              "      <td>137296.48</td>\n",
              "      <td>24669.49</td>\n",
              "    </tr>\n",
              "    <tr>\n",
              "      <th>CONSTRUCTION DEVELOPMENT</th>\n",
              "      <td>115217.43</td>\n",
              "      <td>24293.09</td>\n",
              "    </tr>\n",
              "    <tr>\n",
              "      <th>TELECOMMUNICATIONS</th>\n",
              "      <td>131001.76</td>\n",
              "      <td>23946.01</td>\n",
              "    </tr>\n",
              "    <tr>\n",
              "      <th>AUTOMOBILE INDUSTRY</th>\n",
              "      <td>92637.98</td>\n",
              "      <td>16673.92</td>\n",
              "    </tr>\n",
              "    <tr>\n",
              "      <th>...</th>\n",
              "      <td>...</td>\n",
              "      <td>...</td>\n",
              "    </tr>\n",
              "    <tr>\n",
              "      <th>PHOTOGRAPHIC RAW FILM AND PAPER</th>\n",
              "      <td>278.37</td>\n",
              "      <td>67.28</td>\n",
              "    </tr>\n",
              "    <tr>\n",
              "      <th>COAL PRODUCTION</th>\n",
              "      <td>122.13</td>\n",
              "      <td>27.74</td>\n",
              "    </tr>\n",
              "    <tr>\n",
              "      <th>MATHEMATICAL,SURVEYING AND DRAWING INSTRUMENTS</th>\n",
              "      <td>41.62</td>\n",
              "      <td>7.98</td>\n",
              "    </tr>\n",
              "    <tr>\n",
              "      <th>DEFENCE INDUSTRIES</th>\n",
              "      <td>26.12</td>\n",
              "      <td>5.12</td>\n",
              "    </tr>\n",
              "    <tr>\n",
              "      <th>COIR</th>\n",
              "      <td>21.64</td>\n",
              "      <td>4.06</td>\n",
              "    </tr>\n",
              "  </tbody>\n",
              "</table>\n",
              "<p>63 rows × 2 columns</p>\n",
              "</div>"
            ],
            "text/plain": [
              "                                                FDI(₹ Crores)  \\\n",
              "Sector                                                          \n",
              "SERVICES SECTOR                                     316426.67   \n",
              "COMPUTER SOFTWARE & HARDWARE                        137296.48   \n",
              "CONSTRUCTION DEVELOPMENT                            115217.43   \n",
              "TELECOMMUNICATIONS                                  131001.76   \n",
              "AUTOMOBILE INDUSTRY                                  92637.98   \n",
              "...                                                       ...   \n",
              "PHOTOGRAPHIC RAW FILM AND PAPER                        278.37   \n",
              "COAL PRODUCTION                                        122.13   \n",
              "MATHEMATICAL,SURVEYING AND DRAWING INSTRUMENTS          41.62   \n",
              "DEFENCE INDUSTRIES                                      26.12   \n",
              "COIR                                                    21.64   \n",
              "\n",
              "                                                FDI(US$ Million)  \n",
              "Sector                                                            \n",
              "SERVICES SECTOR                                         59476.49  \n",
              "COMPUTER SOFTWARE & HARDWARE                            24669.49  \n",
              "CONSTRUCTION DEVELOPMENT                                24293.09  \n",
              "TELECOMMUNICATIONS                                      23946.01  \n",
              "AUTOMOBILE INDUSTRY                                     16673.92  \n",
              "...                                                          ...  \n",
              "PHOTOGRAPHIC RAW FILM AND PAPER                            67.28  \n",
              "COAL PRODUCTION                                            27.74  \n",
              "MATHEMATICAL,SURVEYING AND DRAWING INSTRUMENTS              7.98  \n",
              "DEFENCE INDUSTRIES                                          5.12  \n",
              "COIR                                                        4.06  \n",
              "\n",
              "[63 rows x 2 columns]"
            ]
          },
          "execution_count": 18,
          "metadata": {},
          "output_type": "execute_result"
        }
      ],
      "source": [
        "#Grouping by Sector column to find Total FDI Inflow per Sector from FY2000-01 to FY2016-17  \n",
        "Sectorwise_fdi = Sorted.groupby('Sector').sum()\n",
        "Sectorwise_fdi.sort_values(by='FDI(US$ Million)',ascending=False)\n"
      ]
    },
    {
      "cell_type": "markdown",
      "id": "640e2fbf",
      "metadata": {
        "id": "640e2fbf"
      },
      "source": [
        "# Visualisation:"
      ]
    },
    {
      "cell_type": "code",
      "execution_count": 19,
      "id": "884cf481",
      "metadata": {
        "colab": {
          "base_uri": "https://localhost:8080/",
          "height": 433
        },
        "id": "884cf481",
        "outputId": "6a60155b-0624-4337-ef58-f2132e2ab98b",
        "scrolled": true
      },
      "outputs": [
        {
          "name": "stderr",
          "output_type": "stream",
          "text": [
            "C:\\Users\\msi1\\AppData\\Local\\Temp\\ipykernel_16200\\495972913.py:2: UserWarning: Matplotlib is currently using module://matplotlib_inline.backend_inline, which is a non-GUI backend, so cannot show the figure.\n",
            "  plt.show()\n"
          ]
        }
      ],
      "source": [
        "Sectorwise_fdi.plot(kind='bar',y='FDI(₹ Crores)',figsize = (25,7), legend= True, title='SECTOR_WISE FDI INFLOWS IN CRORES',ylabel='FDI(₹ Crores)',cmap='summer')\n",
        "plt.show()"
      ]
    },
    {
      "cell_type": "code",
      "execution_count": 20,
      "id": "194e61f3",
      "metadata": {
        "colab": {
          "base_uri": "https://localhost:8080/",
          "height": 435
        },
        "id": "194e61f3",
        "outputId": "0501aa22-67f0-4435-984f-b5f5ab85781f",
        "scrolled": true
      },
      "outputs": [
        {
          "name": "stderr",
          "output_type": "stream",
          "text": [
            "C:\\Users\\msi1\\AppData\\Local\\Temp\\ipykernel_16200\\1663999152.py:2: UserWarning: Matplotlib is currently using module://matplotlib_inline.backend_inline, which is a non-GUI backend, so cannot show the figure.\n",
            "  plt.show()\n"
          ]
        }
      ],
      "source": [
        "Sectorwise_fdi.plot(kind='bar',y='FDI(US$ Million)',figsize = (25,7), legend= True, title='SECTOR_WISE FDI INFLOWS IN MILLIONS' ,ylabel='FDI(US$ Million)',cmap='summer')\n",
        "plt.show()"
      ]
    },
    {
      "cell_type": "markdown",
      "id": "097a2de7",
      "metadata": {
        "id": "097a2de7"
      },
      "source": [
        "## Best & Worst Performing Sectors:\n",
        "### TOP 10 SECTORS"
      ]
    },
    {
      "cell_type": "code",
      "execution_count": 21,
      "id": "5a36ac5d",
      "metadata": {
        "id": "5a36ac5d"
      },
      "outputs": [],
      "source": [
        "#Top 10 and bottom 10 sectors \n",
        "Top_10_Sectors = Sectorwise_fdi.nlargest(10,['FDI(₹ Crores)'])\n"
      ]
    },
    {
      "cell_type": "code",
      "execution_count": 22,
      "id": "5f6c05c1",
      "metadata": {
        "colab": {
          "base_uri": "https://localhost:8080/",
          "height": 473
        },
        "id": "5f6c05c1",
        "outputId": "ed743ddb-1504-4a0c-9a14-bc03bed4a447"
      },
      "outputs": [
        {
          "data": {
            "text/html": [
              "<div>\n",
              "<style scoped>\n",
              "    .dataframe tbody tr th:only-of-type {\n",
              "        vertical-align: middle;\n",
              "    }\n",
              "\n",
              "    .dataframe tbody tr th {\n",
              "        vertical-align: top;\n",
              "    }\n",
              "\n",
              "    .dataframe thead th {\n",
              "        text-align: right;\n",
              "    }\n",
              "</style>\n",
              "<table border=\"1\" class=\"dataframe\">\n",
              "  <thead>\n",
              "    <tr style=\"text-align: right;\">\n",
              "      <th></th>\n",
              "      <th>FDI(₹ Crores)</th>\n",
              "      <th>FDI(US$ Million)</th>\n",
              "      <th>In %age</th>\n",
              "      <th>%age to Total Inflows</th>\n",
              "    </tr>\n",
              "    <tr>\n",
              "      <th>Sector</th>\n",
              "      <th></th>\n",
              "      <th></th>\n",
              "      <th></th>\n",
              "      <th></th>\n",
              "    </tr>\n",
              "  </thead>\n",
              "  <tbody>\n",
              "    <tr>\n",
              "      <th>SERVICES SECTOR</th>\n",
              "      <td>316426.67</td>\n",
              "      <td>59476.49</td>\n",
              "      <td>27.66</td>\n",
              "      <td>17.65</td>\n",
              "    </tr>\n",
              "    <tr>\n",
              "      <th>COMPUTER SOFTWARE &amp; HARDWARE</th>\n",
              "      <td>137296.48</td>\n",
              "      <td>24669.49</td>\n",
              "      <td>12.00</td>\n",
              "      <td>7.66</td>\n",
              "    </tr>\n",
              "    <tr>\n",
              "      <th>TELECOMMUNICATIONS</th>\n",
              "      <td>131001.76</td>\n",
              "      <td>23946.01</td>\n",
              "      <td>11.45</td>\n",
              "      <td>7.31</td>\n",
              "    </tr>\n",
              "    <tr>\n",
              "      <th>CONSTRUCTION DEVELOPMENT</th>\n",
              "      <td>115217.43</td>\n",
              "      <td>24293.09</td>\n",
              "      <td>10.07</td>\n",
              "      <td>6.43</td>\n",
              "    </tr>\n",
              "    <tr>\n",
              "      <th>AUTOMOBILE INDUSTRY</th>\n",
              "      <td>92637.98</td>\n",
              "      <td>16673.92</td>\n",
              "      <td>8.10</td>\n",
              "      <td>5.17</td>\n",
              "    </tr>\n",
              "    <tr>\n",
              "      <th>TRADING</th>\n",
              "      <td>84502.09</td>\n",
              "      <td>14210.88</td>\n",
              "      <td>7.39</td>\n",
              "      <td>4.71</td>\n",
              "    </tr>\n",
              "    <tr>\n",
              "      <th>DRUGS &amp; PHARMACEUTICALS</th>\n",
              "      <td>76411.49</td>\n",
              "      <td>14706.90</td>\n",
              "      <td>6.68</td>\n",
              "      <td>4.26</td>\n",
              "    </tr>\n",
              "    <tr>\n",
              "      <th>CHEMICALS (OTHER THAN FERTILIZERS)</th>\n",
              "      <td>70068.76</td>\n",
              "      <td>13293.09</td>\n",
              "      <td>6.12</td>\n",
              "      <td>3.91</td>\n",
              "    </tr>\n",
              "    <tr>\n",
              "      <th>POWER</th>\n",
              "      <td>60416.03</td>\n",
              "      <td>11589.13</td>\n",
              "      <td>5.28</td>\n",
              "      <td>3.37</td>\n",
              "    </tr>\n",
              "    <tr>\n",
              "      <th>CONSTRUCTION (INFRASTRUCTURE) ACTIVITIES</th>\n",
              "      <td>60108.72</td>\n",
              "      <td>9817.47</td>\n",
              "      <td>5.25</td>\n",
              "      <td>3.35</td>\n",
              "    </tr>\n",
              "  </tbody>\n",
              "</table>\n",
              "</div>"
            ],
            "text/plain": [
              "                                          FDI(₹ Crores)  FDI(US$ Million)  \\\n",
              "Sector                                                                      \n",
              "SERVICES SECTOR                               316426.67          59476.49   \n",
              "COMPUTER SOFTWARE & HARDWARE                  137296.48          24669.49   \n",
              "TELECOMMUNICATIONS                            131001.76          23946.01   \n",
              "CONSTRUCTION DEVELOPMENT                      115217.43          24293.09   \n",
              "AUTOMOBILE INDUSTRY                            92637.98          16673.92   \n",
              "TRADING                                        84502.09          14210.88   \n",
              "DRUGS & PHARMACEUTICALS                        76411.49          14706.90   \n",
              "CHEMICALS (OTHER THAN FERTILIZERS)             70068.76          13293.09   \n",
              "POWER                                          60416.03          11589.13   \n",
              "CONSTRUCTION (INFRASTRUCTURE) ACTIVITIES       60108.72           9817.47   \n",
              "\n",
              "                                          In %age  %age to Total Inflows  \n",
              "Sector                                                                    \n",
              "SERVICES SECTOR                             27.66                  17.65  \n",
              "COMPUTER SOFTWARE & HARDWARE                12.00                   7.66  \n",
              "TELECOMMUNICATIONS                          11.45                   7.31  \n",
              "CONSTRUCTION DEVELOPMENT                    10.07                   6.43  \n",
              "AUTOMOBILE INDUSTRY                          8.10                   5.17  \n",
              "TRADING                                      7.39                   4.71  \n",
              "DRUGS & PHARMACEUTICALS                      6.68                   4.26  \n",
              "CHEMICALS (OTHER THAN FERTILIZERS)           6.12                   3.91  \n",
              "POWER                                        5.28                   3.37  \n",
              "CONSTRUCTION (INFRASTRUCTURE) ACTIVITIES     5.25                   3.35  "
            ]
          },
          "execution_count": 22,
          "metadata": {},
          "output_type": "execute_result"
        }
      ],
      "source": [
        "#Calculating percentage-wise FDI share among top 10 sectors and among all sectors \n",
        "Total_fdi = round(melt01['FDI(₹ Crores)'].sum(),2)\n",
        "Sum = Top_10_Sectors['FDI(₹ Crores)'].sum()\n",
        "Top_10_Sectors['In %age'] = round(Top_10_Sectors['FDI(₹ Crores)']/Sum*100,2) \n",
        "Top_10_Sectors['%age to Total Inflows'] = round((Top_10_Sectors['FDI(₹ Crores)']/Total_fdi)*100,2)\n",
        "Top_10_Sectors"
      ]
    },
    {
      "cell_type": "markdown",
      "id": "3bf39a20",
      "metadata": {
        "id": "3bf39a20"
      },
      "source": [
        "### Visualisation:"
      ]
    },
    {
      "cell_type": "code",
      "execution_count": 23,
      "id": "650c640a",
      "metadata": {
        "colab": {
          "base_uri": "https://localhost:8080/",
          "height": 270
        },
        "id": "650c640a",
        "outputId": "60d055d1-5e86-4125-81d8-0396600f0514",
        "scrolled": true
      },
      "outputs": [
        {
          "name": "stderr",
          "output_type": "stream",
          "text": [
            "C:\\Users\\msi1\\AppData\\Local\\Temp\\ipykernel_16200\\3166923880.py:7: UserWarning: Matplotlib is currently using module://matplotlib_inline.backend_inline, which is a non-GUI backend, so cannot show the figure.\n",
            "  plt.show()\n"
          ]
        }
      ],
      "source": [
        "##Creating bar chart to visualise Total FDI inflow in top 10 sectors using Matplotlib\n",
        "\n",
        "plt.figure(figsize=(15,5))\n",
        "plt.barh(Top_10_Sectors.index,Top_10_Sectors['FDI(₹ Crores)'],color='Teal')\n",
        "plt.title('TOP 10 SECTORS')\n",
        "plt.xlabel('FDI(₹ Crores)')\n",
        "plt.show()"
      ]
    },
    {
      "cell_type": "markdown",
      "id": "781396e6",
      "metadata": {
        "id": "781396e6"
      },
      "source": [
        "### BOTTOM 5 SECTORS"
      ]
    },
    {
      "cell_type": "code",
      "execution_count": 24,
      "id": "92c4cc2d",
      "metadata": {
        "colab": {
          "base_uri": "https://localhost:8080/",
          "height": 316
        },
        "id": "92c4cc2d",
        "outputId": "0770b94b-f2b5-4b99-e77c-7df37e8cf18d"
      },
      "outputs": [
        {
          "data": {
            "text/html": [
              "<div>\n",
              "<style scoped>\n",
              "    .dataframe tbody tr th:only-of-type {\n",
              "        vertical-align: middle;\n",
              "    }\n",
              "\n",
              "    .dataframe tbody tr th {\n",
              "        vertical-align: top;\n",
              "    }\n",
              "\n",
              "    .dataframe thead th {\n",
              "        text-align: right;\n",
              "    }\n",
              "</style>\n",
              "<table border=\"1\" class=\"dataframe\">\n",
              "  <thead>\n",
              "    <tr style=\"text-align: right;\">\n",
              "      <th></th>\n",
              "      <th>FDI(₹ Crores)</th>\n",
              "      <th>FDI(US$ Million)</th>\n",
              "      <th>In %age</th>\n",
              "      <th>%age to Total Inflows</th>\n",
              "    </tr>\n",
              "    <tr>\n",
              "      <th>Sector</th>\n",
              "      <th></th>\n",
              "      <th></th>\n",
              "      <th></th>\n",
              "      <th></th>\n",
              "    </tr>\n",
              "  </thead>\n",
              "  <tbody>\n",
              "    <tr>\n",
              "      <th>COIR</th>\n",
              "      <td>21.64</td>\n",
              "      <td>4.06</td>\n",
              "      <td>4.42</td>\n",
              "      <td>0.001</td>\n",
              "    </tr>\n",
              "    <tr>\n",
              "      <th>DEFENCE INDUSTRIES</th>\n",
              "      <td>26.12</td>\n",
              "      <td>5.12</td>\n",
              "      <td>5.33</td>\n",
              "      <td>0.001</td>\n",
              "    </tr>\n",
              "    <tr>\n",
              "      <th>MATHEMATICAL,SURVEYING AND DRAWING INSTRUMENTS</th>\n",
              "      <td>41.62</td>\n",
              "      <td>7.98</td>\n",
              "      <td>8.50</td>\n",
              "      <td>0.002</td>\n",
              "    </tr>\n",
              "    <tr>\n",
              "      <th>COAL PRODUCTION</th>\n",
              "      <td>122.13</td>\n",
              "      <td>27.74</td>\n",
              "      <td>24.93</td>\n",
              "      <td>0.007</td>\n",
              "    </tr>\n",
              "    <tr>\n",
              "      <th>PHOTOGRAPHIC RAW FILM AND PAPER</th>\n",
              "      <td>278.37</td>\n",
              "      <td>67.28</td>\n",
              "      <td>56.82</td>\n",
              "      <td>0.016</td>\n",
              "    </tr>\n",
              "  </tbody>\n",
              "</table>\n",
              "</div>"
            ],
            "text/plain": [
              "                                                FDI(₹ Crores)  \\\n",
              "Sector                                                          \n",
              "COIR                                                    21.64   \n",
              "DEFENCE INDUSTRIES                                      26.12   \n",
              "MATHEMATICAL,SURVEYING AND DRAWING INSTRUMENTS          41.62   \n",
              "COAL PRODUCTION                                        122.13   \n",
              "PHOTOGRAPHIC RAW FILM AND PAPER                        278.37   \n",
              "\n",
              "                                                FDI(US$ Million)  In %age  \\\n",
              "Sector                                                                      \n",
              "COIR                                                        4.06     4.42   \n",
              "DEFENCE INDUSTRIES                                          5.12     5.33   \n",
              "MATHEMATICAL,SURVEYING AND DRAWING INSTRUMENTS              7.98     8.50   \n",
              "COAL PRODUCTION                                            27.74    24.93   \n",
              "PHOTOGRAPHIC RAW FILM AND PAPER                            67.28    56.82   \n",
              "\n",
              "                                                %age to Total Inflows  \n",
              "Sector                                                                 \n",
              "COIR                                                            0.001  \n",
              "DEFENCE INDUSTRIES                                              0.001  \n",
              "MATHEMATICAL,SURVEYING AND DRAWING INSTRUMENTS                  0.002  \n",
              "COAL PRODUCTION                                                 0.007  \n",
              "PHOTOGRAPHIC RAW FILM AND PAPER                                 0.016  "
            ]
          },
          "execution_count": 24,
          "metadata": {},
          "output_type": "execute_result"
        }
      ],
      "source": [
        "#Calculating share among Bottom sectors and as a whole \n",
        "Bottom_5_Sectors = Sectorwise_fdi.nsmallest(5,['FDI(₹ Crores)'])\n",
        "Sum = Bottom_5_Sectors['FDI(₹ Crores)'].sum()\n",
        "Bottom_5_Sectors['In %age'] = round(Bottom_5_Sectors['FDI(₹ Crores)']/Sum*100,2)\n",
        "Bottom_5_Sectors['%age to Total Inflows'] = round((Bottom_5_Sectors['FDI(₹ Crores)']/Total_fdi)*100,3)\n",
        "Bottom_5_Sectors"
      ]
    },
    {
      "cell_type": "markdown",
      "id": "27485353",
      "metadata": {
        "id": "27485353"
      },
      "source": [
        "### Visualisation:"
      ]
    },
    {
      "cell_type": "code",
      "execution_count": 25,
      "id": "19a79aed",
      "metadata": {
        "colab": {
          "base_uri": "https://localhost:8080/",
          "height": 388
        },
        "id": "19a79aed",
        "outputId": "186b4429-c968-4d81-fec0-539a13a26d75"
      },
      "outputs": [
        {
          "name": "stderr",
          "output_type": "stream",
          "text": [
            "C:\\Users\\msi1\\AppData\\Local\\Temp\\ipykernel_16200\\598228552.py:7: UserWarning: Matplotlib is currently using module://matplotlib_inline.backend_inline, which is a non-GUI backend, so cannot show the figure.\n",
            "  plt.show()\n"
          ]
        }
      ],
      "source": [
        "#Creating bar chart to visualise Total FDI inflow in Bottom 5 sectors using Matplotlib\n",
        "\n",
        "plt.figure(figsize=(10,6))\n",
        "plt.barh(Bottom_5_Sectors.index,Bottom_5_Sectors['FDI(₹ Crores)'],color = 'Teal')\n",
        "plt.title('BOTTOM 5 SECTORS')\n",
        "plt.xlabel('FDI(₹ Crores)')\n",
        "plt.show()"
      ]
    },
    {
      "cell_type": "markdown",
      "id": "fe93baf0",
      "metadata": {
        "id": "fe93baf0"
      },
      "source": [
        "# Year-wise Details:\n",
        "#### Year-wise FDI Inflow "
      ]
    },
    {
      "cell_type": "code",
      "execution_count": 26,
      "id": "7d826644",
      "metadata": {
        "id": "7d826644"
      },
      "outputs": [],
      "source": [
        "#Creating Dataframe  \n",
        "melt02 = melt01[['Year', 'FDI(₹ Crores)']]\n",
        "melt02=round(melt02.groupby('Year').sum(),2)"
      ]
    },
    {
      "cell_type": "code",
      "execution_count": 27,
      "id": "2ab2edcf",
      "metadata": {
        "id": "2ab2edcf"
      },
      "outputs": [],
      "source": [
        "#reating new column of % growth over previous year\n",
        "melt02['% growth over previous year'] = round(melt02.pct_change()*100,2)"
      ]
    },
    {
      "cell_type": "code",
      "execution_count": 28,
      "id": "084997e8",
      "metadata": {
        "colab": {
          "base_uri": "https://localhost:8080/",
          "height": 650
        },
        "id": "084997e8",
        "outputId": "9c0c9eca-1b28-4875-9a2b-adf3560d70b4"
      },
      "outputs": [
        {
          "name": "stdout",
          "output_type": "stream",
          "text": [
            "\n",
            "********Details on Variation of FDI INFLOW Year-wise********\n"
          ]
        },
        {
          "data": {
            "text/html": [
              "<div>\n",
              "<style scoped>\n",
              "    .dataframe tbody tr th:only-of-type {\n",
              "        vertical-align: middle;\n",
              "    }\n",
              "\n",
              "    .dataframe tbody tr th {\n",
              "        vertical-align: top;\n",
              "    }\n",
              "\n",
              "    .dataframe thead th {\n",
              "        text-align: right;\n",
              "    }\n",
              "</style>\n",
              "<table border=\"1\" class=\"dataframe\">\n",
              "  <thead>\n",
              "    <tr style=\"text-align: right;\">\n",
              "      <th></th>\n",
              "      <th>FDI(₹ Crores)</th>\n",
              "      <th>% growth over previous year</th>\n",
              "    </tr>\n",
              "    <tr>\n",
              "      <th>Year</th>\n",
              "      <th></th>\n",
              "      <th></th>\n",
              "    </tr>\n",
              "  </thead>\n",
              "  <tbody>\n",
              "    <tr>\n",
              "      <th>2000-01</th>\n",
              "      <td>10865.97</td>\n",
              "      <td>-</td>\n",
              "    </tr>\n",
              "    <tr>\n",
              "      <th>2001-02</th>\n",
              "      <td>19208.02</td>\n",
              "      <td>76.77</td>\n",
              "    </tr>\n",
              "    <tr>\n",
              "      <th>2002-03</th>\n",
              "      <td>13088.91</td>\n",
              "      <td>-31.86</td>\n",
              "    </tr>\n",
              "    <tr>\n",
              "      <th>2003-04</th>\n",
              "      <td>10053.15</td>\n",
              "      <td>-23.19</td>\n",
              "    </tr>\n",
              "    <tr>\n",
              "      <th>2004-05</th>\n",
              "      <td>14461.59</td>\n",
              "      <td>43.85</td>\n",
              "    </tr>\n",
              "    <tr>\n",
              "      <th>2005-06</th>\n",
              "      <td>24524.51</td>\n",
              "      <td>69.58</td>\n",
              "    </tr>\n",
              "    <tr>\n",
              "      <th>2006-07</th>\n",
              "      <td>56512.74</td>\n",
              "      <td>130.43</td>\n",
              "    </tr>\n",
              "    <tr>\n",
              "      <th>2007-08</th>\n",
              "      <td>98940.57</td>\n",
              "      <td>75.08</td>\n",
              "    </tr>\n",
              "    <tr>\n",
              "      <th>2008-09</th>\n",
              "      <td>144421.44</td>\n",
              "      <td>45.97</td>\n",
              "    </tr>\n",
              "    <tr>\n",
              "      <th>2009-10</th>\n",
              "      <td>122558.27</td>\n",
              "      <td>-15.14</td>\n",
              "    </tr>\n",
              "    <tr>\n",
              "      <th>2010-11</th>\n",
              "      <td>97421.29</td>\n",
              "      <td>-20.51</td>\n",
              "    </tr>\n",
              "    <tr>\n",
              "      <th>2011-12</th>\n",
              "      <td>168579.74</td>\n",
              "      <td>73.04</td>\n",
              "    </tr>\n",
              "    <tr>\n",
              "      <th>2012-13</th>\n",
              "      <td>122006.77</td>\n",
              "      <td>-27.63</td>\n",
              "    </tr>\n",
              "    <tr>\n",
              "      <th>2013-14</th>\n",
              "      <td>147010.90</td>\n",
              "      <td>20.49</td>\n",
              "    </tr>\n",
              "    <tr>\n",
              "      <th>2014-15</th>\n",
              "      <td>189108.88</td>\n",
              "      <td>28.64</td>\n",
              "    </tr>\n",
              "    <tr>\n",
              "      <th>2015-16</th>\n",
              "      <td>261846.45</td>\n",
              "      <td>38.46</td>\n",
              "    </tr>\n",
              "    <tr>\n",
              "      <th>2016-17</th>\n",
              "      <td>291739.09</td>\n",
              "      <td>11.42</td>\n",
              "    </tr>\n",
              "  </tbody>\n",
              "</table>\n",
              "</div>"
            ],
            "text/plain": [
              "         FDI(₹ Crores) % growth over previous year\n",
              "Year                                              \n",
              "2000-01       10865.97                           -\n",
              "2001-02       19208.02                       76.77\n",
              "2002-03       13088.91                      -31.86\n",
              "2003-04       10053.15                      -23.19\n",
              "2004-05       14461.59                       43.85\n",
              "2005-06       24524.51                       69.58\n",
              "2006-07       56512.74                      130.43\n",
              "2007-08       98940.57                       75.08\n",
              "2008-09      144421.44                       45.97\n",
              "2009-10      122558.27                      -15.14\n",
              "2010-11       97421.29                      -20.51\n",
              "2011-12      168579.74                       73.04\n",
              "2012-13      122006.77                      -27.63\n",
              "2013-14      147010.90                       20.49\n",
              "2014-15      189108.88                       28.64\n",
              "2015-16      261846.45                       38.46\n",
              "2016-17      291739.09                       11.42"
            ]
          },
          "execution_count": 28,
          "metadata": {},
          "output_type": "execute_result"
        }
      ],
      "source": [
        "print('\\n'+\"*\"*8+\"Details on Variation of FDI INFLOW Year-wise\"+'*'*8) #Year-wise FDI Inflow\n",
        "melt02.fillna('-')"
      ]
    },
    {
      "cell_type": "code",
      "execution_count": 29,
      "id": "ed6c4fd1",
      "metadata": {
        "colab": {
          "base_uri": "https://localhost:8080/",
          "height": 817
        },
        "id": "ed6c4fd1",
        "outputId": "6595122e-5225-4144-a740-37be9f37b1c2"
      },
      "outputs": [
        {
          "name": "stderr",
          "output_type": "stream",
          "text": [
            "C:\\Users\\msi1\\AppData\\Local\\Temp\\ipykernel_16200\\1174385677.py:5: UserWarning: Matplotlib is currently using module://matplotlib_inline.backend_inline, which is a non-GUI backend, so cannot show the figure.\n",
            "  plt.show()\n"
          ]
        }
      ],
      "source": [
        "#plotting to show Year by Year FDI Inflow\n",
        "melt02.plot.line(y='FDI(₹ Crores)',figsize=(10,10),cmap = 'summer')\n",
        "plt.ylabel('FDI(₹ Crores)')\n",
        "plt.title('FDI Year by Year Inflow')\n",
        "plt.show()"
      ]
    },
    {
      "cell_type": "markdown",
      "id": "908cba7d",
      "metadata": {
        "id": "908cba7d"
      },
      "source": [
        "##### The above graph shows the total amount of FDI inflows in India during the last 17 years i.e. 2000 to 2017.\n",
        "The FDI inflow from 2000-2001 i.e. ₹10865.97Cr. in 2001-02 it was ₹19208.02Cr. It shows the Good result in the FDI inflows in India. Little bit\n",
        "ups and downs in FDI inflows up to 2005-06, but after that great hike in the year 2007-08 and FDI was ₹98940.57Cr. In 2008-2009 there was a huge investment in FDI in ₹144390.03Cr.\n",
        "But then there was a downfall in Inflow of FDI in two consecutive years 2009-2010 and 2010-2011, with figures 122558.27\t and\n",
        "97421.29 respectively. We can analysis from the graph that in the year 2011-2012 the inflow of FDI was second highest of last 15 years\n",
        "i.e. 168298.80.Year 2012-13 and 2013-14 the FDI inflow fluctuated from 121984.32 to 147010.90respectively. In last Financial Year i.e.2016-2017 the amount of FDI Inflow were ₹291608.67Cr which is the highest FDI inflow in last 17 years."
      ]
    },
    {
      "cell_type": "markdown",
      "id": "c89d53fe",
      "metadata": {
        "id": "c89d53fe"
      },
      "source": [
        "# Conclusion:"
      ]
    },
    {
      "cell_type": "markdown",
      "id": "f1a3977d",
      "metadata": {
        "id": "f1a3977d"
      },
      "source": [
        "##### The Sectoral composition of FDI over the period of April 2000 to June 2017, we can find that the largest recipient of such investment is service sector (Financial and non-financial services). The share of this sector in FDI flows is 17 % of the inflow total foreign direct investment.\n",
        "###### The foreign investors are interested in mainly financial services due its profit generating advantage. This sector gives scope for the foreign investor to takes back the profits to the home country. As service sector the services are consumed in the host country and there by generating outflow of funds from the host country.\n",
        "\n",
        "###### Their is very low interset towards sectors like Coir, Defence Industries, Mathematical,surveying and drawing Instruments, Coal Production and there are around 28 to 30 sectors where share is less.  \n"
      ]
    },
    {
      "cell_type": "code",
      "execution_count": 30,
      "id": "82be19b3",
      "metadata": {
        "id": "82be19b3"
      },
      "outputs": [],
      "source": [
        "#Saving as Excel file for further Use\n",
        "#Merged.to_csv('FDI_data.csv')"
      ]
    }
  ],
  "metadata": {
    "colab": {
      "include_colab_link": true,
      "provenance": []
    },
    "kernelspec": {
      "display_name": "Python 3",
      "language": "python",
      "name": "python3"
    },
    "language_info": {
      "codemirror_mode": {
        "name": "ipython",
        "version": 3
      },
      "file_extension": ".py",
      "mimetype": "text/x-python",
      "name": "python",
      "nbconvert_exporter": "python",
      "pygments_lexer": "ipython3",
      "version": "3.10.9"
    },
    "vscode": {
      "interpreter": {
        "hash": "767d0c5e53cb863c7e67023b0d3bd06d3f655d6b67c2e01f711d6d89a07dfc1e"
      }
    }
  },
  "nbformat": 4,
  "nbformat_minor": 5
}
